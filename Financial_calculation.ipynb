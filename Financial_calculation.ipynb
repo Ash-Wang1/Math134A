{
  "nbformat": 4,
  "nbformat_minor": 0,
  "metadata": {
    "colab": {
      "provenance": []
    },
    "kernelspec": {
      "name": "python3",
      "display_name": "Python 3"
    },
    "language_info": {
      "name": "python"
    }
  },
  "cells": [
    {
      "cell_type": "markdown",
      "source": [
        "Run this first!!"
      ],
      "metadata": {
        "id": "-6yxMcLGLl_x"
      }
    },
    {
      "cell_type": "code",
      "execution_count": 2,
      "metadata": {
        "id": "_3H7XWRNLeu2"
      },
      "outputs": [],
      "source": [
        "import sympy\n",
        "import numpy as np\n",
        "from sympy import Symbol, solve,Eq"
      ]
    },
    {
      "cell_type": "markdown",
      "source": [
        "ir = interest rate for all code, term/terms/year = period"
      ],
      "metadata": {
        "id": "L-oC7fPpNBIP"
      }
    },
    {
      "cell_type": "markdown",
      "source": [
        "Change face value, price, and terms to calculate result. "
      ],
      "metadata": {
        "id": "0R4JSbaKLzav"
      }
    },
    {
      "cell_type": "code",
      "source": [
        "fv =[20]\n",
        "price = [6.914]\n",
        "def spot_rate(fv,price,terms):\n",
        "    li = range(0,len(fv))\n",
        "    for i in li:\n",
        "        sr = (fv[i]/price[i])**(1/terms) -1\n",
        "    print(sr)\n",
        "    return\n",
        "#spot_rate(fv,price,10)"
      ],
      "metadata": {
        "colab": {
          "base_uri": "https://localhost:8080/"
        },
        "id": "HEz2eWDkLlSf",
        "outputId": "b7bb0580-b806-429c-97af-ba424c82abf7"
      },
      "execution_count": 1,
      "outputs": [
        {
          "output_type": "stream",
          "name": "stdout",
          "text": [
            "0.11206471736646861\n"
          ]
        }
      ]
    },
    {
      "cell_type": "code",
      "source": [
        "#forward rate yearly\n",
        "def forward_rate(sr1,i,srj,j):\n",
        "    f_ij = ((1+srj)**j/(1+sr1)**i)**(1/(j-i)) -1\n",
        "    print(f_ij)\n",
        "    return\n",
        "forward_rate(0.084,5,0.1,6)"
      ],
      "metadata": {
        "colab": {
          "base_uri": "https://localhost:8080/"
        },
        "id": "EZS4sp9jMAPo",
        "outputId": "d28f238c-db13-4034-a641-0dc70f469650"
      },
      "execution_count": 3,
      "outputs": [
        {
          "output_type": "stream",
          "name": "stdout",
          "text": [
            "0.18361292758031578\n"
          ]
        }
      ]
    },
    {
      "cell_type": "code",
      "source": [
        "#forward rate monthly\n",
        "def forward_rate_m(sr1,i,srj,j,m):\n",
        "    f_ij = m*((1+srj/m)**j/(1+sr1/m)**i)**(1/(j-i)) -m\n",
        "    print(f_ij)\n",
        "    return\n",
        "forward_rate_m(0.069,2,0.09,4,12)"
      ],
      "metadata": {
        "colab": {
          "base_uri": "https://localhost:8080/"
        },
        "id": "L3_XP4VEMCi5",
        "outputId": "b8b5952e-2a0b-4dbb-eaef-fdc141115df7"
      },
      "execution_count": 4,
      "outputs": [
        {
          "output_type": "stream",
          "name": "stdout",
          "text": [
            "0.11103653989560236\n"
          ]
        }
      ]
    },
    {
      "cell_type": "code",
      "source": [
        "# Internal rate of return\n",
        "def irr():\n",
        "    li = list()\n",
        "    while True:\n",
        "        v = input(\"enter the cashflow,if end enter end\")\n",
        "        if v != \"end\":\n",
        "            v = int(v)\n",
        "            li.append(v)\n",
        "        elif v == \"end\":\n",
        "            break\n",
        "    r = Symbol(\"r\")\n",
        "    c = 1/(1+r)\n",
        "    pv = 0\n",
        "    length = range(0,len(li))\n",
        "    for i in length:\n",
        "        pv = pv + li[i]*c**i\n",
        "    result=solve(Eq(pv,0),r)\n",
        "    print(result)\n",
        "irr()"
      ],
      "metadata": {
        "colab": {
          "base_uri": "https://localhost:8080/"
        },
        "id": "fwiDIIe-MG1V",
        "outputId": "35d18ac3-6d2b-4e7b-9e5d-16be4de4058b"
      },
      "execution_count": 11,
      "outputs": [
        {
          "output_type": "stream",
          "name": "stdout",
          "text": [
            "enter the cashflow,if end enter end2\n",
            "enter the cashflow,if end enter end3\n",
            "enter the cashflow,if end enter end5\n",
            "enter the cashflow,if end enter end7\n",
            "enter the cashflow,if end enter endend\n",
            "[-3/2 + 7/(4*(-1/2 - sqrt(3)*I/2)*(135/4 + 3*sqrt(9129)/8)**(1/3)) - (-1/2 - sqrt(3)*I/2)*(135/4 + 3*sqrt(9129)/8)**(1/3)/3, -3/2 - (-1/2 + sqrt(3)*I/2)*(135/4 + 3*sqrt(9129)/8)**(1/3)/3 + 7/(4*(-1/2 + sqrt(3)*I/2)*(135/4 + 3*sqrt(9129)/8)**(1/3)), -3/2 - (135/4 + 3*sqrt(9129)/8)**(1/3)/3 + 7/(4*(135/4 + 3*sqrt(9129)/8)**(1/3))]\n"
          ]
        }
      ]
    },
    {
      "cell_type": "code",
      "source": [
        "# Cut tree prblem\n",
        "def cuttree(intial_value,ir,years):\n",
        "    ir = float(ir)\n",
        "    li = range(1,years)\n",
        "    x1 = [1,years]\n",
        "    for i in li:\n",
        "        NPV = intial_value + (i+1)/(1+ir)**i\n",
        "        print(NPV)\n",
        "cuttree(-1, 0.1, 24)\n"
      ],
      "metadata": {
        "colab": {
          "base_uri": "https://localhost:8080/"
        },
        "id": "PA51umPvMsEF",
        "outputId": "1e743a06-66a9-458d-a4bf-f5e3094079fa"
      },
      "execution_count": 13,
      "outputs": [
        {
          "output_type": "stream",
          "name": "stdout",
          "text": [
            "0.8181818181818181\n",
            "1.4793388429752063\n",
            "2.00525920360631\n",
            "2.4150672768253525\n",
            "2.72552793835493\n",
            "2.95131751037644\n",
            "3.1052649458456516\n",
            "3.1985664218875973\n",
            "3.240976183724846\n",
            "3.240976183724846\n",
            "3.2059267937767064\n",
            "3.142200630234634\n",
            "3.055301316313628\n",
            "2.9499688145911955\n",
            "2.8302727899066134\n",
            "2.6996953084325246\n",
            "2.5612040402024294\n",
            "2.417317008275058\n",
            "2.270159816531156\n",
            "2.1215161885070124\n",
            "1.9728725604828687\n",
            "1.8254573921944615\n",
            "1.6802757870619396\n"
          ]
        }
      ]
    },
    {
      "cell_type": "code",
      "source": [
        "#inflation\n",
        "def r_ir(ir,inf):\n",
        "    r0 = ((ir-inf)/(1+inf))\n",
        "    print(r0)\n",
        "\n",
        "r_ir(0.1,0.01)"
      ],
      "metadata": {
        "colab": {
          "base_uri": "https://localhost:8080/"
        },
        "id": "9w3JcjlYM7UP",
        "outputId": "26b1d711-0d08-4d37-e498-7152d386c85b"
      },
      "execution_count": 14,
      "outputs": [
        {
          "output_type": "stream",
          "name": "stdout",
          "text": [
            "0.08910891089108912\n"
          ]
        }
      ]
    },
    {
      "cell_type": "code",
      "source": [
        "# loan calculation\n",
        "# !!! r/terms = ir\n",
        "def loan(ir,terms,p):\n",
        "    A = (p*ir*(1+ir)**terms)/((1+ir)**terms-1)\n",
        "    print(A)\n",
        "    return\n",
        "loan(0.08/12,30*12,800000)\n"
      ],
      "metadata": {
        "colab": {
          "base_uri": "https://localhost:8080/"
        },
        "id": "KSKmK9qPNV7w",
        "outputId": "543e554b-498c-4c8c-bf6f-c2ffb61671f1"
      },
      "execution_count": 15,
      "outputs": [
        {
          "output_type": "stream",
          "name": "stdout",
          "text": [
            "5870.116591035024\n"
          ]
        }
      ]
    },
    {
      "cell_type": "code",
      "source": [
        "#Mortage balance\n",
        "def mortage_balance(ir,terms,payment):\n",
        "    P = (payment/ir)*(1-(1/(1+ir)**terms))\n",
        "    print(P)\n",
        "    return\n",
        "mortage_balance(0.09,240,24000)"
      ],
      "metadata": {
        "colab": {
          "base_uri": "https://localhost:8080/"
        },
        "id": "PA_4dAaMNb6o",
        "outputId": "736da17f-87db-4f7b-b947-00c8be47cac8"
      },
      "execution_count": 16,
      "outputs": [
        {
          "output_type": "stream",
          "name": "stdout",
          "text": [
            "266666.66638894536\n"
          ]
        }
      ]
    },
    {
      "cell_type": "code",
      "source": [
        "# fixed income security\n",
        "def fixed_bond(ir,terms,fv):\n",
        "    pv = (fv/ir)*(1-(1/(1+ir)**terms))\n",
        "    print(pv)\n",
        "    return\n",
        "fixed_bond(0.01,60,22.24)"
      ],
      "metadata": {
        "colab": {
          "base_uri": "https://localhost:8080/"
        },
        "id": "2nzYG6vjNeyM",
        "outputId": "cc8d9850-e126-4de8-8c34-6ce708e8c35a"
      },
      "execution_count": 17,
      "outputs": [
        {
          "output_type": "stream",
          "name": "stdout",
          "text": [
            "999.8000541544226\n"
          ]
        }
      ]
    },
    {
      "cell_type": "code",
      "source": [
        "# Macaulay Duration\n",
        "# c = coupon rate /m ; y = yield per period/m; m = periods per uear; n = periods remains\n",
        "\n",
        "def mac_duration(c,y,m,n):\n",
        "    D = (1+y)/(m*y) - ((1+y+n*(c-y))/(m*c*((1+y)**n -1) + m*y))\n",
        "    print(D)\n",
        "    return\n",
        "mac_duration(0.04,0.04,2,20)"
      ],
      "metadata": {
        "colab": {
          "base_uri": "https://localhost:8080/"
        },
        "id": "7VCtZsSeNmPG",
        "outputId": "4b296db4-cd96-47af-fb5c-0b708db05f07"
      },
      "execution_count": 19,
      "outputs": [
        {
          "output_type": "stream",
          "name": "stdout",
          "text": [
            "7.066969699383202\n"
          ]
        }
      ]
    },
    {
      "cell_type": "code",
      "source": [
        "# Modified Duration\n",
        "def Modified_duration(D,ytm,m):\n",
        "    D_m = D/(1+(ytm/m))\n",
        "    print(D_m)\n",
        "    return\n",
        "\n",
        "Modified_duration(9.94,0.10,2)"
      ],
      "metadata": {
        "colab": {
          "base_uri": "https://localhost:8080/"
        },
        "id": "JOYDmYX_NrPY",
        "outputId": "b695690e-60f6-4bc8-bb15-d868fce83191"
      },
      "execution_count": 20,
      "outputs": [
        {
          "output_type": "stream",
          "name": "stdout",
          "text": [
            "9.466666666666665\n"
          ]
        }
      ]
    },
    {
      "cell_type": "code",
      "source": [
        "# Portfolio Duration\n",
        "# w_i = market value of bond_i/ market value of portfolio   d_i = duration of bond i  k=number of bonds\n",
        "\n",
        "w_i=[0.416,0.440,0.144]\n",
        "d_i=[3.861,8.047,9.168]\n",
        "def prot_duration(w_i,d_i,k):\n",
        "    li = range(0,k)\n",
        "    pd = 0\n",
        "    for i in li:\n",
        "        pd_t = w_i[i]*d_i[i]\n",
        "        pd = pd_t + pd\n",
        "    print(pd)\n",
        "    return\n",
        "prot_duration(w_i,d_i,3)"
      ],
      "metadata": {
        "colab": {
          "base_uri": "https://localhost:8080/"
        },
        "id": "z7-maqjwNuSJ",
        "outputId": "eb226739-2ade-4f2c-a771-d79982122b88"
      },
      "execution_count": 21,
      "outputs": [
        {
          "output_type": "stream",
          "name": "stdout",
          "text": [
            "6.467048\n"
          ]
        }
      ]
    },
    {
      "cell_type": "code",
      "source": [
        "# Quasi-Modified duration\n",
        "# m times per yaer\n",
        "def qua_modifed(pv,k,m,cflow,s):\n",
        "    li = range(0,k)\n",
        "    for i in li:\n",
        "        Dq=(1/pv)*(k/m)*cflow[i]*(1+(s/m)**(k-1))\n",
        "    print(Dq)\n",
        "    return\n",
        "qua_modifed()"
      ],
      "metadata": {
        "id": "TguSxwUQNvdZ"
      },
      "execution_count": 23,
      "outputs": []
    },
    {
      "cell_type": "markdown",
      "source": [
        "Expected value and variance for 2 assets"
      ],
      "metadata": {
        "id": "VHr3rUEoN9HZ"
      }
    },
    {
      "cell_type": "code",
      "source": [
        "def ExVar_2asset(r1, r2, sd1, sd2, sd12, w1, w2):\n",
        "    ex = w1*r1 + w2*r2\n",
        "    var = w1**2*sd1**2 + 2*w1*w2*sd12 + w2**2*sd2**2\n",
        "    sd = np.sqrt(var)\n",
        "    print(\"EX:\",ex,\"Var:\",var)\n",
        "    return f'Ex = {ex}, Var = {var}, SD = {sd}'\n",
        "\n",
        "\n",
        "ExVar_2asset(0.12, 0.15,0.2,0.18,0.01,0.25,0.75)"
      ],
      "metadata": {
        "colab": {
          "base_uri": "https://localhost:8080/",
          "height": 53
        },
        "id": "1ayiKs5VN4TJ",
        "outputId": "a3c6b5ab-1a86-42ea-9ba5-22defb8cd5d3"
      },
      "execution_count": 24,
      "outputs": [
        {
          "output_type": "stream",
          "name": "stdout",
          "text": [
            "EX: 0.1425 Var: 0.024474999999999997\n"
          ]
        },
        {
          "output_type": "execute_result",
          "data": {
            "text/plain": [
              "'Ex = 0.1425, Var = 0.024474999999999997, SD = 0.15644487847162014'"
            ],
            "application/vnd.google.colaboratory.intrinsic+json": {
              "type": "string"
            }
          },
          "metadata": {},
          "execution_count": 24
        }
      ]
    },
    {
      "cell_type": "code",
      "source": [
        "# Correlation Coefficient\n",
        "\n",
        "def correlation_coefficient(sd1, sd2, sd12):\n",
        "    print(sd12 / (sd1 * sd2))\n",
        "    return\n",
        "\n",
        "def covar(sd1, sd2, ro):\n",
        "    re = ro*sd1*sd2\n",
        "    print(re)\n",
        "    return re\n",
        "\n",
        "covar(0.15, 0.3, 0.25)\n"
      ],
      "metadata": {
        "colab": {
          "base_uri": "https://localhost:8080/"
        },
        "id": "cJ5zJ7OROLjE",
        "outputId": "4306bbbb-8405-4caf-a863-3e55371a99c0"
      },
      "execution_count": 25,
      "outputs": [
        {
          "output_type": "stream",
          "name": "stdout",
          "text": [
            "0.01125\n"
          ]
        },
        {
          "output_type": "execute_result",
          "data": {
            "text/plain": [
              "0.01125"
            ]
          },
          "metadata": {},
          "execution_count": 25
        }
      ]
    },
    {
      "cell_type": "code",
      "source": [
        "# Ep 6.9 Three uncorrelated assets\n",
        "\n",
        "def weight_n_multipliers(r1, r2, r3, r, var):\n",
        "    left = np.array([[1, 0, 0, -r1, -1],\n",
        "              [0, 1, 0, -r2, -1],\n",
        "              [0, 0, 1, -r3, -1],\n",
        "              [r1, r2, r3, 0, 0],\n",
        "              [1, 1, 1, 0, 0]])\n",
        "    right = np.array([0, 0, 0, r, 1]).T\n",
        "    re = np.linalg.solve(left, right)\n",
        "    print(re)\n",
        "    return re\n",
        "\n",
        "weight_n_multipliers(0.1, 0.2, 0.3, 0.2, 1)"
      ],
      "metadata": {
        "colab": {
          "base_uri": "https://localhost:8080/"
        },
        "id": "CkHhvu9cOQdd",
        "outputId": "962315d4-fe01-456e-8e0c-8e91faf3ba58"
      },
      "execution_count": 27,
      "outputs": [
        {
          "output_type": "stream",
          "name": "stdout",
          "text": [
            "[ 3.33333333e-01  3.33333333e-01  3.33333333e-01 -1.85037171e-15\n",
            "  3.33333333e-01]\n"
          ]
        },
        {
          "output_type": "execute_result",
          "data": {
            "text/plain": [
              "array([ 3.33333333e-01,  3.33333333e-01,  3.33333333e-01, -1.85037171e-15,\n",
              "        3.33333333e-01])"
            ]
          },
          "metadata": {},
          "execution_count": 27
        }
      ]
    },
    {
      "cell_type": "markdown",
      "source": [
        "To calculate minimun varience, change V here. Remember to uncommon V before you calculate."
      ],
      "metadata": {
        "id": "P6E3-MsjOjMr"
      }
    },
    {
      "cell_type": "code",
      "source": [
        "V = np.array([[2.30, 0.93, 0.62, 0.74, -0.23],\n",
        "              [0.93, 1.40, 0.22, 0.56, 0.26],\n",
        "              [0.62, 0.22, 1.80, 0.78, -0.27],\n",
        "              [0.74, 0.56, 0.78, 3.40, -0.56],\n",
        "              [-0.23, 0.26, -0.27, -0.56, 2.6]])\n",
        "r_bar = np.array([15.1, 12.5, 14.7, 9.02, 17.68]).T   # all in percentage\n",
        "\n",
        "#V = np.array([[213.160, 122.976, 112.067, 177.154],\n",
        "#              [122.976, 150.403, 160.497, 175.621],\n",
        "#              [112.067, 160.497, 189.387, 167.737],\n",
        "#              [177.154, 175.621, 167.737, 259.846]])\n",
        "#r_bar = np.array([13.98, 14.16, 17.44, 12.88]).T   # all in percentage"
      ],
      "metadata": {
        "id": "oPOsgkNIOahr"
      },
      "execution_count": 30,
      "outputs": []
    },
    {
      "cell_type": "code",
      "source": [
        "def rf_mini_var_2asset(V, r_bar, rf):\n",
        "    v1 = np.linalg.solve(V, np.ones(len(V)))\n",
        "    v2 = np.linalg.solve(V, r_bar)\n",
        "    w1 = v1/sum(v1)\n",
        "    w2 = v2/sum(v2)\n",
        "    v  = v2 - rf*v1\n",
        "    w  = v/sum(v)\n",
        "    return print(f\"v1 = {v}, w1 = {w1}\\nv2 = {v2}, w2 = {w2}\\nv  = {v}, w = {w}\")\n",
        "\n",
        "\n",
        "rf_mini_var_2asset(V, r_bar,2) "
      ],
      "metadata": {
        "colab": {
          "base_uri": "https://localhost:8080/"
        },
        "id": "eAceLkaiO4la",
        "outputId": "ea61bbf0-e959-4bd6-effe-6031aa6c7f7e"
      },
      "execution_count": 31,
      "outputs": [
        {
          "output_type": "stream",
          "name": "stdout",
          "text": [
            "v1 = [3.36956351 2.77998243 6.34408245 0.54240544 6.82648211], w1 = [0.08825144 0.25086041 0.28238423 0.10375097 0.27475295]\n",
            "v2 = [3.65199557 3.58281377 7.24779981 0.87444084 7.70577701], w2 = [0.15834987 0.15535016 0.31426329 0.0379156  0.33412109]\n",
            "v  = [3.36956351 2.77998243 6.34408245 0.54240544 6.82648211], w = [0.16964435 0.13996124 0.31939974 0.02730799 0.34368668]\n"
          ]
        }
      ]
    },
    {
      "cell_type": "code",
      "source": [
        "V = np.array([[2, 1, 0], [1, 2, 1], [0, 1, 2]])\n",
        "r_bar = np.array([0.4, 0.8, 0.8]).T\n",
        "rf_mini_var_2asset(V, r_bar, 0.2)\n",
        "\n",
        "# Minimum standard deviation, $\\lambda = 0, \\mu = 1$\n",
        "\n",
        "def min_var(sd1, sd2, ro):\n",
        "    sd12 = ro * sd1 * sd2\n",
        "    re = (sd2**2-sd12) / (sd1**2+sd2**2-2*sd12)\n",
        "    print(re)\n",
        "    return re\n",
        "\n",
        "min_var(0.15, 0.3, 0.25)"
      ],
      "metadata": {
        "colab": {
          "base_uri": "https://localhost:8080/"
        },
        "id": "wgbhzzv6Pnge",
        "outputId": "d8cedf83-7039-468b-f479-695714865d21"
      },
      "execution_count": 33,
      "outputs": [
        {
          "output_type": "stream",
          "name": "stdout",
          "text": [
            "v1 = [-2.77555756e-17  2.00000000e-01  2.00000000e-01], w1 = [0.5 0.  0.5]\n",
            "v2 = [0.1 0.2 0.3], w2 = [0.16666667 0.33333333 0.5       ]\n",
            "v  = [-2.77555756e-17  2.00000000e-01  2.00000000e-01], w = [-6.9388939e-17  5.0000000e-01  5.0000000e-01]\n",
            "0.875\n"
          ]
        },
        {
          "output_type": "execute_result",
          "data": {
            "text/plain": [
              "0.875"
            ]
          },
          "metadata": {},
          "execution_count": 33
        }
      ]
    },
    {
      "cell_type": "code",
      "source": [
        "def optimal_weight(r1, r2, ro, rf):   # s1 = s2\n",
        "    w1 = ((r1-rf)-(r2-rf)*ro) / (r1+r2-2*rf-(r1+r2-2*rf)*ro)\n",
        "    w2 = 1 - w1\n",
        "    return f'w1 = {w1}, w2 = {w2}'\n",
        "\n",
        "optimal_weight(0.1,0.08,0.5,0.05)"
      ],
      "metadata": {
        "colab": {
          "base_uri": "https://localhost:8080/",
          "height": 36
        },
        "id": "eo8WyjMoPKzJ",
        "outputId": "9036b128-30b4-4d1f-dfad-f5ad0326d2fb"
      },
      "execution_count": 34,
      "outputs": [
        {
          "output_type": "execute_result",
          "data": {
            "text/plain": [
              "'w1 = 0.8750000000000002, w2 = 0.12499999999999978'"
            ],
            "application/vnd.google.colaboratory.intrinsic+json": {
              "type": "string"
            }
          },
          "metadata": {},
          "execution_count": 34
        }
      ]
    },
    {
      "cell_type": "code",
      "source": [
        "def cml_s(rb, rm, rf, sm):   # (r_bar, r_market, r_risk free, sd_market), return sd of the position\n",
        "    re = (rb-rf)*sm / (rm-rf)\n",
        "    return re\n",
        "\n",
        "cml_s(0.39,0.23,0.07,0.32)"
      ],
      "metadata": {
        "colab": {
          "base_uri": "https://localhost:8080/"
        },
        "id": "TGVL5QtyPwl9",
        "outputId": "0d62bf4d-d076-4b2e-dcc9-dda4a1c84c06"
      },
      "execution_count": 35,
      "outputs": [
        {
          "output_type": "execute_result",
          "data": {
            "text/plain": [
              "0.64"
            ]
          },
          "metadata": {},
          "execution_count": 35
        }
      ]
    },
    {
      "cell_type": "code",
      "source": [
        "def cml_rb(rm, rf, sm, s):   # return the expected return (r_bar)\n",
        "    re = rf + (rm-rf)*s/sm\n",
        "    print(re)\n",
        "    return\n",
        "\n",
        "cml_rb(0.23, 0.07,0.32,0.64)"
      ],
      "metadata": {
        "colab": {
          "base_uri": "https://localhost:8080/"
        },
        "id": "gtVvAcK3P0Ub",
        "outputId": "18dd94be-7033-4e04-910a-3ea084d99d8b"
      },
      "execution_count": 37,
      "outputs": [
        {
          "output_type": "stream",
          "name": "stdout",
          "text": [
            "0.39\n"
          ]
        }
      ]
    },
    {
      "cell_type": "code",
      "source": [
        "def allocate_a(n, rb, rm, rf):   # $n dollars, a in market portfolio, n-a in risk-free asset, return a\n",
        "    # n*rb = a*rm + (n-a)*rf\n",
        "    re = n*(rb-rf) / (rm-rf)\n",
        "    print(re)\n",
        "    return re\n",
        "allocate_a(1000,0.39,0.23,0.07)"
      ],
      "metadata": {
        "colab": {
          "base_uri": "https://localhost:8080/"
        },
        "id": "mlpoGtQYP2PK",
        "outputId": "63999d4f-c38e-46f9-a71c-1da311d7a0b9"
      },
      "execution_count": 36,
      "outputs": [
        {
          "output_type": "stream",
          "name": "stdout",
          "text": [
            "2000.0\n"
          ]
        },
        {
          "output_type": "execute_result",
          "data": {
            "text/plain": [
              "2000.0"
            ]
          },
          "metadata": {},
          "execution_count": 36
        }
      ]
    },
    {
      "cell_type": "code",
      "source": [
        "def expected_money(n, a, rm, rf):\n",
        "    # $n total dollars, a in market portfolio, return expected money at the end of the year\n",
        "    re = a*(1+rm) + (n-a)*(1+rf)\n",
        "    print(re)\n",
        "    return re\n",
        "\n",
        "expected_money(1000,700,0.23,0.07)"
      ],
      "metadata": {
        "colab": {
          "base_uri": "https://localhost:8080/"
        },
        "id": "KGRGUjk4P6lX",
        "outputId": "7588cd10-e7fc-4bc4-f91d-1686b38a10d3"
      },
      "execution_count": 38,
      "outputs": [
        {
          "output_type": "stream",
          "name": "stdout",
          "text": [
            "1182.0\n"
          ]
        },
        {
          "output_type": "execute_result",
          "data": {
            "text/plain": [
              "1182.0"
            ]
          },
          "metadata": {},
          "execution_count": 38
        }
      ]
    },
    {
      "cell_type": "code",
      "source": [
        "# Mean-variance parameters\n",
        "\n",
        "def num_parameters(n):\n",
        "  re = 2*n+n*(n-1)/2\n",
        "  print(re)\n",
        "  return re\n",
        "\n",
        "num_parameters(500) "
      ],
      "metadata": {
        "colab": {
          "base_uri": "https://localhost:8080/"
        },
        "id": "f9fskh-uQDLT",
        "outputId": "99b70097-ac1c-4aef-ffe4-ebba2293dc6b"
      },
      "execution_count": 39,
      "outputs": [
        {
          "output_type": "stream",
          "name": "stdout",
          "text": [
            "125750.0\n"
          ]
        },
        {
          "output_type": "execute_result",
          "data": {
            "text/plain": [
              "125750.0"
            ]
          },
          "metadata": {},
          "execution_count": 39
        }
      ]
    },
    {
      "cell_type": "code",
      "source": [
        "# Rate of return\n",
        "\n",
        "def rate_return(rf, rm, sd_m, cov_im):\n",
        "    re = rf + cov_im/sd_m**2*(rm-rf)\n",
        "    print(re)\n",
        "    return re\n",
        "\n",
        "rate_return(0.08,0.12,0.15,0.09)"
      ],
      "metadata": {
        "colab": {
          "base_uri": "https://localhost:8080/"
        },
        "id": "0QmR5W4sQG8F",
        "outputId": "765b9d96-abce-46e7-edc9-67e88b4def7e"
      },
      "execution_count": 40,
      "outputs": [
        {
          "output_type": "stream",
          "name": "stdout",
          "text": [
            "0.24\n"
          ]
        },
        {
          "output_type": "execute_result",
          "data": {
            "text/plain": [
              "0.24"
            ]
          },
          "metadata": {},
          "execution_count": 40
        }
      ]
    },
    {
      "cell_type": "code",
      "source": [
        "def r_i(rf, var_a, var_b, cov_ab, rm):\n",
        "    beta_a = 2*(var_a+cov_ab) / (var_a+var_b+2*cov_ab)\n",
        "    beta_b = 2 - beta_a\n",
        "    r_a = rf + beta_a*(rm-rf)\n",
        "    r_b = rf + beta_b*(rm-rf)\n",
        "    print(\"r_a =\",r_a,\"r_b\",r_b)\n",
        "    return f\"r_a = {r_a}, r_b = {r_b}\"\n",
        "\n",
        "r_i(0.02,0.04,0.02,0.01,0.18)"
      ],
      "metadata": {
        "id": "lt8TCdAFQKjI"
      },
      "execution_count": null,
      "outputs": []
    }
  ]
}